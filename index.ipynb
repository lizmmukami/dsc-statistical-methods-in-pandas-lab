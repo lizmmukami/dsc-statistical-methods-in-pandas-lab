{
 "cells": [
  {
   "cell_type": "markdown",
   "metadata": {},
   "source": [
    "# Statistical Methods in Pandas - Lab"
   ]
  },
  {
   "cell_type": "markdown",
   "metadata": {},
   "source": [
    "## Introduction\n",
    "\n",
    "In this lab you'll get some hands-on experience using some of the key summary statistics methods in Pandas."
   ]
  },
  {
   "cell_type": "markdown",
   "metadata": {},
   "source": [
    "## Objectives\n",
    "You will be able to:\n",
    "\n",
    "- Calculate summary statistics for a series and DataFrame \n",
    "- Use the `.apply()` or `.applymap()` methods to apply a function to a pandas series or DataFrame  \n",
    "\n",
    "\n",
    "## Getting Started\n",
    "\n",
    "For this lab, we'll be working with a dataset containing information on various lego datasets. You will find this dataset in the file `'lego_sets.csv'`.   \n",
    "\n",
    "In the cell below:\n",
    "\n",
    "- Import Pandas and set the standard alias of `pd`\n",
    "- Import the `'lego_sets.csv'` dataset \n",
    "- Display the first five rows of the DataFrame to get a feel for what we'll be working with"
   ]
  },
  {
   "cell_type": "code",
   "execution_count": 1,
   "metadata": {},
   "outputs": [
    {
     "data": {
      "text/html": [
       "<div>\n",
       "<style scoped>\n",
       "    .dataframe tbody tr th:only-of-type {\n",
       "        vertical-align: middle;\n",
       "    }\n",
       "\n",
       "    .dataframe tbody tr th {\n",
       "        vertical-align: top;\n",
       "    }\n",
       "\n",
       "    .dataframe thead th {\n",
       "        text-align: right;\n",
       "    }\n",
       "</style>\n",
       "<table border=\"1\" class=\"dataframe\">\n",
       "  <thead>\n",
       "    <tr style=\"text-align: right;\">\n",
       "      <th></th>\n",
       "      <th>ages</th>\n",
       "      <th>list_price</th>\n",
       "      <th>num_reviews</th>\n",
       "      <th>piece_count</th>\n",
       "      <th>play_star_rating</th>\n",
       "      <th>prod_desc</th>\n",
       "      <th>prod_id</th>\n",
       "      <th>prod_long_desc</th>\n",
       "      <th>review_difficulty</th>\n",
       "      <th>set_name</th>\n",
       "      <th>star_rating</th>\n",
       "      <th>theme_name</th>\n",
       "      <th>val_star_rating</th>\n",
       "      <th>country</th>\n",
       "    </tr>\n",
       "  </thead>\n",
       "  <tbody>\n",
       "    <tr>\n",
       "      <th>0</th>\n",
       "      <td>6-12</td>\n",
       "      <td>29.99</td>\n",
       "      <td>2.0</td>\n",
       "      <td>277.0</td>\n",
       "      <td>4.0</td>\n",
       "      <td>Catapult into action and take back the eggs fr...</td>\n",
       "      <td>75823.0</td>\n",
       "      <td>Use the staircase catapult to launch Red into ...</td>\n",
       "      <td>Average</td>\n",
       "      <td>Bird Island Egg Heist</td>\n",
       "      <td>4.5</td>\n",
       "      <td>Angry Birds™</td>\n",
       "      <td>4.0</td>\n",
       "      <td>US</td>\n",
       "    </tr>\n",
       "    <tr>\n",
       "      <th>1</th>\n",
       "      <td>6-12</td>\n",
       "      <td>19.99</td>\n",
       "      <td>2.0</td>\n",
       "      <td>168.0</td>\n",
       "      <td>4.0</td>\n",
       "      <td>Launch a flying attack and rescue the eggs fro...</td>\n",
       "      <td>75822.0</td>\n",
       "      <td>Pilot Pig has taken off from Bird Island with ...</td>\n",
       "      <td>Easy</td>\n",
       "      <td>Piggy Plane Attack</td>\n",
       "      <td>5.0</td>\n",
       "      <td>Angry Birds™</td>\n",
       "      <td>4.0</td>\n",
       "      <td>US</td>\n",
       "    </tr>\n",
       "    <tr>\n",
       "      <th>2</th>\n",
       "      <td>6-12</td>\n",
       "      <td>12.99</td>\n",
       "      <td>11.0</td>\n",
       "      <td>74.0</td>\n",
       "      <td>4.3</td>\n",
       "      <td>Chase the piggy with lightning-fast Chuck and ...</td>\n",
       "      <td>75821.0</td>\n",
       "      <td>Pitch speedy bird Chuck against the Piggy Car....</td>\n",
       "      <td>Easy</td>\n",
       "      <td>Piggy Car Escape</td>\n",
       "      <td>4.3</td>\n",
       "      <td>Angry Birds™</td>\n",
       "      <td>4.1</td>\n",
       "      <td>US</td>\n",
       "    </tr>\n",
       "    <tr>\n",
       "      <th>3</th>\n",
       "      <td>12+</td>\n",
       "      <td>99.99</td>\n",
       "      <td>23.0</td>\n",
       "      <td>1032.0</td>\n",
       "      <td>3.6</td>\n",
       "      <td>Explore the architecture of the United States ...</td>\n",
       "      <td>21030.0</td>\n",
       "      <td>Discover the architectural secrets of the icon...</td>\n",
       "      <td>Average</td>\n",
       "      <td>United States Capitol Building</td>\n",
       "      <td>4.6</td>\n",
       "      <td>Architecture</td>\n",
       "      <td>4.3</td>\n",
       "      <td>US</td>\n",
       "    </tr>\n",
       "    <tr>\n",
       "      <th>4</th>\n",
       "      <td>12+</td>\n",
       "      <td>79.99</td>\n",
       "      <td>14.0</td>\n",
       "      <td>744.0</td>\n",
       "      <td>3.2</td>\n",
       "      <td>Recreate the Solomon R. Guggenheim Museum® wit...</td>\n",
       "      <td>21035.0</td>\n",
       "      <td>Discover the architectural secrets of Frank Ll...</td>\n",
       "      <td>Challenging</td>\n",
       "      <td>Solomon R. Guggenheim Museum®</td>\n",
       "      <td>4.6</td>\n",
       "      <td>Architecture</td>\n",
       "      <td>4.1</td>\n",
       "      <td>US</td>\n",
       "    </tr>\n",
       "  </tbody>\n",
       "</table>\n",
       "</div>"
      ],
      "text/plain": [
       "   ages  list_price  num_reviews  piece_count  play_star_rating  \\\n",
       "0  6-12       29.99          2.0        277.0               4.0   \n",
       "1  6-12       19.99          2.0        168.0               4.0   \n",
       "2  6-12       12.99         11.0         74.0               4.3   \n",
       "3   12+       99.99         23.0       1032.0               3.6   \n",
       "4   12+       79.99         14.0        744.0               3.2   \n",
       "\n",
       "                                           prod_desc  prod_id  \\\n",
       "0  Catapult into action and take back the eggs fr...  75823.0   \n",
       "1  Launch a flying attack and rescue the eggs fro...  75822.0   \n",
       "2  Chase the piggy with lightning-fast Chuck and ...  75821.0   \n",
       "3  Explore the architecture of the United States ...  21030.0   \n",
       "4  Recreate the Solomon R. Guggenheim Museum® wit...  21035.0   \n",
       "\n",
       "                                      prod_long_desc review_difficulty  \\\n",
       "0  Use the staircase catapult to launch Red into ...           Average   \n",
       "1  Pilot Pig has taken off from Bird Island with ...              Easy   \n",
       "2  Pitch speedy bird Chuck against the Piggy Car....              Easy   \n",
       "3  Discover the architectural secrets of the icon...           Average   \n",
       "4  Discover the architectural secrets of Frank Ll...       Challenging   \n",
       "\n",
       "                         set_name  star_rating    theme_name  val_star_rating  \\\n",
       "0           Bird Island Egg Heist          4.5  Angry Birds™              4.0   \n",
       "1              Piggy Plane Attack          5.0  Angry Birds™              4.0   \n",
       "2                Piggy Car Escape          4.3  Angry Birds™              4.1   \n",
       "3  United States Capitol Building          4.6  Architecture              4.3   \n",
       "4   Solomon R. Guggenheim Museum®          4.6  Architecture              4.1   \n",
       "\n",
       "  country  \n",
       "0      US  \n",
       "1      US  \n",
       "2      US  \n",
       "3      US  \n",
       "4      US  "
      ]
     },
     "execution_count": 1,
     "metadata": {},
     "output_type": "execute_result"
    }
   ],
   "source": [
    "# Import pandas\n",
    "import pandas as pd\n",
    "\n",
    "# Import the 'lego_sets.csv' dataset\n",
    "df = pd.read_csv('lego_sets.csv')\n",
    "\n",
    "# Print the first five rows of DataFrame\n",
    "df.head(5)"
   ]
  },
  {
   "cell_type": "markdown",
   "metadata": {},
   "source": [
    "## Getting DataFrame-Level Statistics\n",
    "\n",
    "We'll begin by getting some overall summary statistics on the dataset. There are two ways we'll get this information -- `.info()` and `.describe()`.\n",
    "\n",
    "The `.info()` method provides us metadata on the DataFrame itself. This allows us to answer questions such as:\n",
    "\n",
    "* What data type does each column contain?\n",
    "* How many rows are in my dataset? \n",
    "* How many total non-missing values does each column contain?\n",
    "* How much memory does the DataFrame take up?\n",
    "\n",
    "In the cell below, call our DataFrame's `.info()` method. "
   ]
  },
  {
   "cell_type": "code",
   "execution_count": 2,
   "metadata": {},
   "outputs": [
    {
     "name": "stdout",
     "output_type": "stream",
     "text": [
      "<class 'pandas.core.frame.DataFrame'>\n",
      "RangeIndex: 12261 entries, 0 to 12260\n",
      "Data columns (total 14 columns):\n",
      " #   Column             Non-Null Count  Dtype  \n",
      "---  ------             --------------  -----  \n",
      " 0   ages               12261 non-null  object \n",
      " 1   list_price         12261 non-null  float64\n",
      " 2   num_reviews        10641 non-null  float64\n",
      " 3   piece_count        12261 non-null  float64\n",
      " 4   play_star_rating   10486 non-null  float64\n",
      " 5   prod_desc          11884 non-null  object \n",
      " 6   prod_id            12261 non-null  float64\n",
      " 7   prod_long_desc     12261 non-null  object \n",
      " 8   review_difficulty  10206 non-null  object \n",
      " 9   set_name           12261 non-null  object \n",
      " 10  star_rating        10641 non-null  float64\n",
      " 11  theme_name         12258 non-null  object \n",
      " 12  val_star_rating    10466 non-null  float64\n",
      " 13  country            12261 non-null  object \n",
      "dtypes: float64(7), object(7)\n",
      "memory usage: 1.3+ MB\n"
     ]
    }
   ],
   "source": [
    "# Call the .info() method\n",
    "df.info()"
   ]
  },
  {
   "cell_type": "markdown",
   "metadata": {},
   "source": [
    "#### Interpreting the Results\n",
    "\n",
    "Read the output above, and then answer the following questions:\n",
    "\n",
    "- How many total rows are in this DataFrame?  \n",
    "- How many columns contain numeric data? \n",
    "- How many contain categorical data? \n",
    "- Identify at least 3 columns that contain missing values. \n",
    "\n",
    "Write your answer below this line:\n",
    "12261 rows,14 columns,7 has categirical data,theme_name,star_rating,val_star_rating\n",
    "________________________________________________________________________________________________________________________________"
   ]
  },
  {
   "cell_type": "markdown",
   "metadata": {},
   "source": [
    "Whereas `.info()` provides statistics about the DataFrame itself, `.describe()` returns output containing basic summary statistics about the data contained with the DataFrame.  \n",
    "\n",
    "In the cell below, call the DataFrame's `.describe()` method. "
   ]
  },
  {
   "cell_type": "code",
   "execution_count": 3,
   "metadata": {},
   "outputs": [
    {
     "data": {
      "text/html": [
       "<div>\n",
       "<style scoped>\n",
       "    .dataframe tbody tr th:only-of-type {\n",
       "        vertical-align: middle;\n",
       "    }\n",
       "\n",
       "    .dataframe tbody tr th {\n",
       "        vertical-align: top;\n",
       "    }\n",
       "\n",
       "    .dataframe thead th {\n",
       "        text-align: right;\n",
       "    }\n",
       "</style>\n",
       "<table border=\"1\" class=\"dataframe\">\n",
       "  <thead>\n",
       "    <tr style=\"text-align: right;\">\n",
       "      <th></th>\n",
       "      <th>list_price</th>\n",
       "      <th>num_reviews</th>\n",
       "      <th>piece_count</th>\n",
       "      <th>play_star_rating</th>\n",
       "      <th>prod_id</th>\n",
       "      <th>star_rating</th>\n",
       "      <th>val_star_rating</th>\n",
       "    </tr>\n",
       "  </thead>\n",
       "  <tbody>\n",
       "    <tr>\n",
       "      <th>count</th>\n",
       "      <td>12261.000000</td>\n",
       "      <td>10641.000000</td>\n",
       "      <td>12261.000000</td>\n",
       "      <td>10486.000000</td>\n",
       "      <td>1.226100e+04</td>\n",
       "      <td>10641.000000</td>\n",
       "      <td>10466.000000</td>\n",
       "    </tr>\n",
       "    <tr>\n",
       "      <th>mean</th>\n",
       "      <td>65.141998</td>\n",
       "      <td>16.826238</td>\n",
       "      <td>493.405921</td>\n",
       "      <td>4.337641</td>\n",
       "      <td>5.983675e+04</td>\n",
       "      <td>4.514134</td>\n",
       "      <td>4.228960</td>\n",
       "    </tr>\n",
       "    <tr>\n",
       "      <th>std</th>\n",
       "      <td>91.980429</td>\n",
       "      <td>36.368984</td>\n",
       "      <td>825.364580</td>\n",
       "      <td>0.652051</td>\n",
       "      <td>1.638115e+05</td>\n",
       "      <td>0.518865</td>\n",
       "      <td>0.660282</td>\n",
       "    </tr>\n",
       "    <tr>\n",
       "      <th>min</th>\n",
       "      <td>2.272400</td>\n",
       "      <td>1.000000</td>\n",
       "      <td>1.000000</td>\n",
       "      <td>1.000000</td>\n",
       "      <td>6.300000e+02</td>\n",
       "      <td>1.800000</td>\n",
       "      <td>1.000000</td>\n",
       "    </tr>\n",
       "    <tr>\n",
       "      <th>25%</th>\n",
       "      <td>19.990000</td>\n",
       "      <td>2.000000</td>\n",
       "      <td>97.000000</td>\n",
       "      <td>4.000000</td>\n",
       "      <td>2.103400e+04</td>\n",
       "      <td>4.300000</td>\n",
       "      <td>4.000000</td>\n",
       "    </tr>\n",
       "    <tr>\n",
       "      <th>50%</th>\n",
       "      <td>36.587800</td>\n",
       "      <td>6.000000</td>\n",
       "      <td>216.000000</td>\n",
       "      <td>4.500000</td>\n",
       "      <td>4.206900e+04</td>\n",
       "      <td>4.700000</td>\n",
       "      <td>4.300000</td>\n",
       "    </tr>\n",
       "    <tr>\n",
       "      <th>75%</th>\n",
       "      <td>70.192200</td>\n",
       "      <td>13.000000</td>\n",
       "      <td>544.000000</td>\n",
       "      <td>4.800000</td>\n",
       "      <td>7.092200e+04</td>\n",
       "      <td>5.000000</td>\n",
       "      <td>4.700000</td>\n",
       "    </tr>\n",
       "    <tr>\n",
       "      <th>max</th>\n",
       "      <td>1104.870000</td>\n",
       "      <td>367.000000</td>\n",
       "      <td>7541.000000</td>\n",
       "      <td>5.000000</td>\n",
       "      <td>2.000431e+06</td>\n",
       "      <td>5.000000</td>\n",
       "      <td>5.000000</td>\n",
       "    </tr>\n",
       "  </tbody>\n",
       "</table>\n",
       "</div>"
      ],
      "text/plain": [
       "         list_price   num_reviews   piece_count  play_star_rating  \\\n",
       "count  12261.000000  10641.000000  12261.000000      10486.000000   \n",
       "mean      65.141998     16.826238    493.405921          4.337641   \n",
       "std       91.980429     36.368984    825.364580          0.652051   \n",
       "min        2.272400      1.000000      1.000000          1.000000   \n",
       "25%       19.990000      2.000000     97.000000          4.000000   \n",
       "50%       36.587800      6.000000    216.000000          4.500000   \n",
       "75%       70.192200     13.000000    544.000000          4.800000   \n",
       "max     1104.870000    367.000000   7541.000000          5.000000   \n",
       "\n",
       "            prod_id   star_rating  val_star_rating  \n",
       "count  1.226100e+04  10641.000000     10466.000000  \n",
       "mean   5.983675e+04      4.514134         4.228960  \n",
       "std    1.638115e+05      0.518865         0.660282  \n",
       "min    6.300000e+02      1.800000         1.000000  \n",
       "25%    2.103400e+04      4.300000         4.000000  \n",
       "50%    4.206900e+04      4.700000         4.300000  \n",
       "75%    7.092200e+04      5.000000         4.700000  \n",
       "max    2.000431e+06      5.000000         5.000000  "
      ]
     },
     "execution_count": 3,
     "metadata": {},
     "output_type": "execute_result"
    }
   ],
   "source": [
    "# Call the .describe() method\n",
    "df.describe()"
   ]
  },
  {
   "cell_type": "markdown",
   "metadata": {},
   "source": [
    "#### Interpreting the Results\n",
    "\n",
    "The output contains descriptive statistics corresponding to the columns. Use these to answer the following questions:\n",
    "\n",
    "- How much is the standard deviation for `piece count`? \n",
    "- How many pieces are in the largest lego set?\n",
    "- How many in the smallest lego set? What is the median `val_star_rating`?\n",
    "\n",
    "_std deviation for 'piece count'__825.364580__\n",
    "12261\n",
    "10466,median is 4.30000\n",
    "___________________________________________________________________________________________________________________________"
   ]
  },
  {
   "cell_type": "markdown",
   "metadata": {},
   "source": [
    "## Getting Summary Statistics\n",
    "\n",
    "Pandas also allows us to easily compute individual summary statistics using built-in methods.  Next, we'll get some practice using these methods. \n",
    "\n",
    "In the cell below, compute the median value of the `star_rating` column."
   ]
  },
  {
   "cell_type": "code",
   "execution_count": 7,
   "metadata": {},
   "outputs": [
    {
     "data": {
      "text/plain": [
       "4.7"
      ]
     },
     "execution_count": 7,
     "metadata": {},
     "output_type": "execute_result"
    }
   ],
   "source": [
    "# Calculate the median of the star_rating column\n",
    "df['star_rating'].median()"
   ]
  },
  {
   "cell_type": "markdown",
   "metadata": {},
   "source": [
    "Next, get a count of the total number of unique values in `play_star_rating`."
   ]
  },
  {
   "cell_type": "code",
   "execution_count": 8,
   "metadata": {},
   "outputs": [
    {
     "data": {
      "text/plain": [
       "<bound method Series.unique of 0        4.0\n",
       "1        4.0\n",
       "2        4.3\n",
       "3        3.6\n",
       "4        3.2\n",
       "        ... \n",
       "12256    4.4\n",
       "12257    4.1\n",
       "12258    4.6\n",
       "12259    5.0\n",
       "12260    4.5\n",
       "Name: play_star_rating, Length: 12261, dtype: float64>"
      ]
     },
     "execution_count": 8,
     "metadata": {},
     "output_type": "execute_result"
    }
   ],
   "source": [
    "# Print the number of unique values in play_star_rating\n",
    "df['play_star_rating'].unique"
   ]
  },
  {
   "cell_type": "markdown",
   "metadata": {},
   "source": [
    "Now, compute the standard deviation of the `list_price` column."
   ]
  },
  {
   "cell_type": "code",
   "execution_count": 12,
   "metadata": {},
   "outputs": [
    {
     "data": {
      "text/plain": [
       "91.9804293059243"
      ]
     },
     "execution_count": 12,
     "metadata": {},
     "output_type": "execute_result"
    }
   ],
   "source": [
    "# Calculate the standard deviation of the list_price column\n",
    "df['list_price'].std()"
   ]
  },
  {
   "cell_type": "markdown",
   "metadata": {},
   "source": [
    "If we bought every single lego set in this dataset, how many pieces would we have?  \n",
    "\n",
    "> **Note**: If you truly want to answer this accurately, and are up for the challenge, remove duplicate lego-set entries before summing the pieces. That is, many of the lego sets are listed multiple times in the dataset above, depending on the country where it is being sold and other unique parameters. If you're stuck, just practice calculating the total number of pieces in the dataset for now."
   ]
  },
  {
   "cell_type": "code",
   "execution_count": 27,
   "metadata": {},
   "outputs": [
    {
     "data": {
      "text/plain": [
       "ages  list_price  num_reviews  piece_count  play_star_rating  prod_desc                                                        prod_id  prod_long_desc                                                                                                                                                                                                                                                                                                                                                                                                                                                                                                                                                                                                                                                                                                                                                                                                                                                                                                                                                                                                                                                                                                                                                                                                                                                                                                                                                                                                                                                                                                                                                                                                                                                                                                                                                                                                                            review_difficulty  set_name                   star_rating  theme_name   val_star_rating  country\n",
       "10+   9.9900      9.0          99.0         3.5               Channel Batgirl™ with your own LEGO® BrickHeadz version!         41586.0  New for March 2017, LEGO® BrickHeadz construction characters bring you a brand new way to collect, build and display iconic characters from your favorite movies, TV series, games and comics. This Batgirl™ BrickHeadz construction character is fun to build using LEGO System bricks that recreate all of her iconic details, including her Batgirl icon and a yellow Batarang. She also stands on a buildable baseplate with series number and BrickHeadz icon for easy display. Whatever the mission, Batgirl will not let you down.\\r\\nBuildable Batgirl™ LEGO® BrickHeadz construction character features authentic detailing, uniquely decorated BrickHeadz eyes, a yellow Batarang, plus a display baseplate.\\r\\nEach LEGO® BrickHeadz construction character comes with its own buildable collector’s baseplate, featuring series number and BrickHeadz icon.\\r\\nHave fun growing your LEGO® BrickHeadz collection with other classic characters from your favorite movies, TV series, games and comics, including 41585 Batman™, 41587 Robin™ and 41588 The Joker™ from THE LEGO BATMAN movie.\\r\\nMash up your LEGO® BrickHeadz construction characters to create supercool hybrids or your own amazing characters.\\r\\nStands over 2” (7cm) tall without baseplate.\\r\\nBaseplate measures over 1” (4cm) square and under 1” (1cm) high.                                                                                                                                                                                                                                                                                                                                                                                                                                                                                        Easy               Batgirl™                   4.3          BrickHeadz   4.6              US         3\n",
       "5+    3.9900      22.0         8.0          4.3               Bring the NINJAGO® world to life with LEGO® Minifigures!         71019.0  Bring exciting new play possibilities to LEGO® NINJAGO® sets with LEGO Minifigures—THE LEGO NINJAGO MOVIE™ series, featuring Kai Kendo, Spinjitzu Training Nya, Lloyd, Jay Walker, Cole, Zane, Lloyd Garmadon, Master Wu, Sushi Chef, N-POP Girl, GPL Tech, Shark Army Octopus, Shark Army Great White, Shark Army General #1, Shark Army Angler, Garmadon, Volcano Garmadon, Flashback Garmadon, Misako and Gong & Guitar Rocker. Each minifigure comes in a sealed ‘mystery’ bag, together with one or more accessories, plus a display plate and a collector’s leaflet.\\r\\nEach minifigure comes with one or more accessories, plus a display plate and a collector’s leaflet.\\r\\nIncludes 2 versions of Lloyd, 3 versions of Garmadon and new-for-August-2017 versions of Nya and Kai.\\r\\nCollect this series of LEGO® Minifigures characters and create your very own action-packed THE LEGO NINJAGO® MOVIE™ scenes!\\r\\nNew-for-August-2017 elements include a black hat and weapon for Garmadon, scarf for Jay, wigs for Lloyd, Jay, Nya, Kai and Misako, octopus helmet, angler fish helmet, bowls, spoons and a 2x3 blue tile with printed blueprint for Lloyd’s dragon mech.\\r\\nCombine with LEGO® building sets for endless play possibilities.\\r\\nHave fun trading minifigures with your friends.\\r\\nPLEASE NOTE: Each ‘mystery’ bag contains one of the 20 characters available in this collection. Unfortunately, we cannot accommodate requests for specific minifigures. If you purchase more than one ‘mystery' bag, you may receive 2 or more identical minifigures.                                                                                                                                                                                                                                                     Very Easy          THE LEGO® NINJAGO® MOVIE™  4.3          Minifigures  4.1              US         3\n",
       "10+   9.9900      11.0         91.0         3.8               Celebrate THE LEGO® BATMAN MOVIE with a LEGO BrickHeadz Batman!  41585.0  New for March 2017, LEGO® BrickHeadz construction characters bring you a brand new way to collect, build and display iconic characters from your favorite movies, TV series, games and comics. This Batman™ BrickHeadz construction character is fun to build using colorful LEGO System bricks that recreate all of his iconic details, including his Batsuit with icon and utility belt decoration, plus a Batarang. He also stands on a buildable baseplate with series number and BrickHeadz icon for easy display, so you can bring the Caped Crusader to any room or office.\\r\\nBuildable Batman™ LEGO® BrickHeadz construction character features colorful and authentic detailing, glow-in-the-dark BrickHeadz eyes, plus a display baseplate.\\r\\nEach LEGO® BrickHeadz construction character comes with its own buildable collector’s baseplate featuring series number and BrickHeadz icon.\\r\\nHave fun growing your LEGO® BrickHeadz collection with other classic characters from your favorite movies, TV series, games and comics, including 41586 Batgirl™, 41587 Robin™ and 41588 The Joker™ from THE LEGO BATMAN MOVIE.\\r\\nMash up your LEGO® BrickHeadz construction characters to create supercool hybrids or your own amazing characters.\\r\\nStands over 2” (7cm) tall without baseplate.\\r\\nBaseplate measures over 1” (4cm) square and under 1” (1cm) high.                                                                                                                                                                                                                                                                                                                                                                                                                                                        Very Easy          Batman™                    4.9          BrickHeadz   4.7              US         3\n",
       "                  12.0         151.0        3.3               Show off the evil trickster with LEGO® BrickHeadz The Joker™!    41588.0  New for March 2017, LEGO® BrickHeadz construction characters bring you a brand new way to collect, build and display iconic characters from your favorite movies, TV series, games and comics. This The Joker™ BrickHeadz construction character is fun to build using LEGO System bricks that recreate all of his iconic details from THE LEGO BATMAN MOVIE, including BrickHeadz eyes, buildable white face, green hair and outfit. Display Batman’s enigmatic archenemy in your home, office or anywhere you like.\\r\\nBuildable The Joker™ LEGO® BrickHeadz construction character features authentic detailing, BrickHeadz eyes, buildable green hair and outfit from THE LEGO BATMAN MOVIE, plus a display baseplate.\\r\\nEach LEGO® BrickHeadz construction character comes with its own buildable collector’s baseplate, featuring series number and BrickHeadz icon.\\r\\nHave fun growing your LEGO® BrickHeadz collection with other classic characters from your favorite movies, TV series, games and comics, including 41585 Batman™, 41586 Batgirl™ and 41587 Robin™ from THE LEGO BATMAN MOVIE.\\r\\nMash up your LEGO® BrickHeadz construction characters to create supercool hybrids or your own amazing characters.\\r\\nStands over 2” (7cm) tall without baseplate.\\r\\nBaseplate measures over 1” (4cm) square and under 1” (1cm) high.                                                                                                                                                                                                                                                                                                                                                                                                                                                                                      Easy               The Joker™                 4.8          BrickHeadz   4.7              US         3\n",
       "                  7.0          102.0        4.0               Unleash your true ninja spirit with LEGO® BrickHeadz Lloyd!      41487.0  This Lloyd LEGO® BrickHeadz construction character is fun to build using colorful LEGO bricks that recreate all of his iconic details, including ninja outfit with headband and belt. He also has a detachable katana sword and stands on a buildable collector’s baseplate with BrickHeadz icon for easy display in your home, office or anywhere you like.\\r\\nBuildable Lloyd LEGO® BrickHeadz construction character features BrickHeadz eyes and has authentic details from the blockbuster THE LEGO NINJAGO® MOVIE™, including green and black ninja outfit with headband and belt, plus a detachable katana.\\r\\nEach LEGO® BrickHeadz construction character comes with its own buildable collector's baseplate featuring the BrickHeadz icon.\\r\\nHave fun growing your LEGO® BrickHeadz collection with other classic characters, including 41488 Master Wu, from your favorite movies, TV series, games and comics.\\r\\nMash up your LEGO® BrickHeadz construction characters to create supercool hybrids or your own amazing characters.\\r\\nThis popular construction character is suitable for ages 10+.\\r\\nStands over 2” (7cm) tall without baseplate.\\r\\nBaseplate measures over 1” (4cm) square and under 1” (1cm) high.                                                                                                                                                                                                                                                                                                                                                                                                                                                                                                                                                                                                     Easy               Lloyd                      5.0          BrickHeadz   4.7              US         3\n",
       "                                                                                                                                                                                                                                                                                                                                                                                                                                                                                                                                                                                                                                                                                                                                                                                                                                                                                                                                                                                                                                                                                                                                                                                                                                                                                                                                                                                                                                                                                                                                                                                                                                                                                                                                                                                                                                                                                                                                                                                                                                                                                     ..\n",
       "7-12  91.4878     2.0          603.0        5.0               Jump aboard the luxury Sunshine Catamaran with friends!          41317.0  Take a luxury cruise on the LEGO® Friends Sunshine Catamaran, with a sun deck, pool, bridge, slide, spiral stairs, garage and sliding doors into the living quarters. Lift the top off the boat for easy access to the kitchen, bedrooms and lounge with a clear bottom. Use the personal water scooter to pull the banana boat or inflatable ring, and play with the friendly dolphin all day long. Includes 3 mini-doll figures and 2 dolphin figures.\\r\\nIncludes 3 mini-doll figures: Olivia, Stephanie and Liam, plus Sheen and Sapphire the dolphin figures.\\r\\nFeatures a 3-level catamaran, personal water scooter and a banana boat.\\r\\nCatamaran features a sun deck with 2 sun loungers and a pool, bridge with steering controls and a seating area, slide into and spiral stairs up from the water, opening garage for the personal water scooter, and living quarters with a kitchen, bedrooms and lounge with sofa and transparent-brick floor.\\r\\nAccessory elements include an inflatable ring, life preservers, flippers, ice creams, popsicle, baskets, newspaper, smartphone and an mp3 player.\\r\\nTake a luxury vacation on the LEGO® Friends Catamaran and enjoy the pool on deck.\\r\\nTake the top off the boat to play in the living quarters and see the clear bottom in the lounge.\\r\\nHave fun with friends on the banana boat or inflatable ring towed by the personal water scooter.\\r\\nMake friends with the dolphins as they swim alongside the catamaran.\\r\\nLEGO® Friends Sunshine Catamaran does not float on water.\\r\\nCatamaran with sail measures over 12” (32cm) high, 11” (29cm) long and 6” (17cm) wide.\\r\\nPersonal water scooter measures over 1” (5cm) long and 1” (3cm) wide, and under 1” (2cm) high.\\r\\nBanana boat measures over 3” (10cm) long and under 1” (2cm) high and 1” (1cm) wide.  Challenging        Sunshine Catamaran         4.5          Friends      5.0              BE         1\n",
       "                                                                                                                                                                                                                                                                                                                                                                                                                                                                                                                                                                                                                                                                                                                                                                                                                                                                                                                                                                                                                                                                                                                                                                                                                                                                                                                                                                                                                                                                                                                                                                                                                                                                                                                                                                                                                                                                                                                                                                                                                                                                           DE         1\n",
       "                                                                                                                                                                                                                                                                                                                                                                                                                                                                                                                                                                                                                                                                                                                                                                                                                                                                                                                                                                                                                                                                                                                                                                                                                                                                                                                                                                                                                                                                                                                                                                                                                                                                                                                                                                                                                                                                                                                                                                                                                                                                           ES         1\n",
       "                                                                                                                                                                                                                                                                                                                                                                                                                                                                                                                                                                                                                                                                                                                                                                                                                                                                                                                                                                                                                                                                                                                                                                                                                                                                                                                                                                                                                                                                                                                                                                                                                                                                                                                                                                                                                                                                                                                                                                                                                                                                           FR         1\n",
       "10+   9.3522      4.0          126.0        2.0               Hop to it with a LEGO® BrickHeadz™ Easter Bunny!                 40271.0  Hunt for eggs with this fun LEGO® BrickHeadz™ Easter Bunny construction character. Check out its cute cheeks and enormous movable ears. This perfect seasonal gift also comes with a detachable carrot and bucket, plus 2 Easter eggs and flowers, and stands on a buildable collector's baseplate with a seasonal calendar and BrickHeadz logo for easy display in the home, office or anywhere they like.\\r\\nBuildable LEGO® BrickHeadz™ Easter Bunny construction character features decorated eyes, movable ears and a detachable carrot and bucket.\\r\\nAlso includes 2 buildable Easter eggs and flowers.\\r\\nEach LEGO® BrickHeadz™ construction character comes with its own buildable collector's baseplate featuring a seasonal calendar and BrickHeadz logo.\\r\\nHave fun growing your LEGO® BrickHeadz™ collection with other characters from your favorite films, TV series, games and comics.\\r\\nMash up your LEGO® BrickHeadz™ construction characters to create supercool hybrids or your own amazing characters.\\r\\nStands over 4” (12cm) tall without baseplate.\\r\\nBaseplate measures over 4” (12cm) wide and 1” (5cm) deep.                                                                                                                                                                                                                                                                                                                                                                                                                                                                                                                                                                                                                                                                                              Easy               Easter Bunny               5.0          BrickHeadz   4.5              CA         1\n",
       "Length: 8837, dtype: int64"
      ]
     },
     "execution_count": 27,
     "metadata": {},
     "output_type": "execute_result"
    }
   ],
   "source": [
    "# Total number of pieces across all unique Lego set\n",
    "df.value_counts()"
   ]
  },
  {
   "cell_type": "markdown",
   "metadata": {},
   "source": [
    "Now, let's try getting the value for the 90% quantile for all numerical columns.  Do this in the cell below."
   ]
  },
  {
   "cell_type": "code",
   "execution_count": 19,
   "metadata": {},
   "outputs": [
    {
     "data": {
      "text/plain": [
       "list_price            136.2971\n",
       "num_reviews            38.0000\n",
       "piece_count          1077.0000\n",
       "play_star_rating        5.0000\n",
       "prod_id             75531.0000\n",
       "star_rating             5.0000\n",
       "val_star_rating         5.0000\n",
       "Name: 0.9, dtype: float64"
      ]
     },
     "execution_count": 19,
     "metadata": {},
     "output_type": "execute_result"
    }
   ],
   "source": [
    "# Get the 90% quantile for all numerical columns\n",
    "df.quantile(.9)"
   ]
  },
  {
   "cell_type": "markdown",
   "metadata": {},
   "source": [
    "## Getting Summary Statistics on Categorical Data\n",
    "\n",
    "For obvious reasons, most of the methods we've used so far only work with numerical data -- there's no way to calculate the standard deviation of a column containing string values. However, there are some things that we can discover about columns containing categorical data. \n",
    "\n",
    "In the cell below, print the unique values contained within the `review_difficulty` column. "
   ]
  },
  {
   "cell_type": "code",
   "execution_count": 20,
   "metadata": {},
   "outputs": [
    {
     "data": {
      "text/plain": [
       "<bound method Series.unique of 0            Average\n",
       "1               Easy\n",
       "2               Easy\n",
       "3            Average\n",
       "4        Challenging\n",
       "            ...     \n",
       "12256           Easy\n",
       "12257           Easy\n",
       "12258           Easy\n",
       "12259      Very Easy\n",
       "12260           Easy\n",
       "Name: review_difficulty, Length: 12261, dtype: object>"
      ]
     },
     "execution_count": 20,
     "metadata": {},
     "output_type": "execute_result"
    }
   ],
   "source": [
    "# Print the unique values in the review_difficulty column\n",
    "df['review_difficulty'].unique"
   ]
  },
  {
   "cell_type": "markdown",
   "metadata": {},
   "source": [
    "Now, let's get the `value_counts()` for this column, to see how common each is. "
   ]
  },
  {
   "cell_type": "code",
   "execution_count": 22,
   "metadata": {},
   "outputs": [
    {
     "data": {
      "text/plain": [
       "Easy                4236\n",
       "Average             3765\n",
       "Very Easy           1139\n",
       "Challenging         1058\n",
       "Very Challenging       8\n",
       "Name: review_difficulty, dtype: int64"
      ]
     },
     "execution_count": 22,
     "metadata": {},
     "output_type": "execute_result"
    }
   ],
   "source": [
    "# Get the value_counts() of the review_difficulty column\n",
    "df['review_difficulty'].value_counts()"
   ]
  },
  {
   "cell_type": "markdown",
   "metadata": {},
   "source": [
    "As you can see, these provide us quick and easy ways to get information on columns containing categorical information.  \n",
    "\n",
    "\n",
    "## Using `.applymap()`\n",
    "\n",
    "When working with pandas DataFrames, we can quickly compute functions on the data contained by using the `.applymap()` method and passing in a lambda function. \n",
    "\n",
    "For instance, we can use `applymap()` to return a version of the DataFrame where every value has been converted to a string.\n",
    "\n",
    "In the cell below:\n",
    "\n",
    "* Call the DataFrame's `.applymap()` method and pass in `lambda x: str(x)`  \n",
    "* Call the new `string_df` object's `.info()` method to confirm that everything has been cast to a string"
   ]
  },
  {
   "cell_type": "code",
   "execution_count": 33,
   "metadata": {},
   "outputs": [
    {
     "name": "stdout",
     "output_type": "stream",
     "text": [
      "<class 'pandas.core.frame.DataFrame'>\n",
      "RangeIndex: 12261 entries, 0 to 12260\n",
      "Data columns (total 14 columns):\n",
      " #   Column             Non-Null Count  Dtype \n",
      "---  ------             --------------  ----- \n",
      " 0   ages               12261 non-null  object\n",
      " 1   list_price         12261 non-null  object\n",
      " 2   num_reviews        12261 non-null  object\n",
      " 3   piece_count        12261 non-null  object\n",
      " 4   play_star_rating   12261 non-null  object\n",
      " 5   prod_desc          12261 non-null  object\n",
      " 6   prod_id            12261 non-null  object\n",
      " 7   prod_long_desc     12261 non-null  object\n",
      " 8   review_difficulty  12261 non-null  object\n",
      " 9   set_name           12261 non-null  object\n",
      " 10  star_rating        12261 non-null  object\n",
      " 11  theme_name         12261 non-null  object\n",
      " 12  val_star_rating    12261 non-null  object\n",
      " 13  country            12261 non-null  object\n",
      "dtypes: object(14)\n",
      "memory usage: 1.3+ MB\n"
     ]
    }
   ],
   "source": [
    "# Call the .applymap() method\n",
    "string_df = df.applymap (lambda x: str(x))\n",
    "df = df.astype(str)\n",
    "\n",
    "# Call the .info() method\n",
    "df.info()"
   ]
  },
  {
   "cell_type": "markdown",
   "metadata": {},
   "source": [
    "Note that everything -- even the `NaN` values, have been cast to a string in the example above. \n",
    "\n",
    "Note that for Pandas Series objects (such as a single column in a DataFrame), we can do the same thing using the `.apply()` method.  \n",
    "\n",
    "This is just one example of how we can quickly compute custom functions on our DataFrame.\n",
    "\n",
    "## Summary\n",
    "\n",
    "In this lab, we learned how to:\n",
    "\n",
    "* Use the `df.describe()` and `df.info()` summary statistics methods \n",
    "* Use built-in Pandas methods for calculating summary statistics \n",
    "* Apply a function to every element in a DataFrame"
   ]
  },
  {
   "cell_type": "code",
   "execution_count": null,
   "metadata": {},
   "outputs": [],
   "source": []
  }
 ],
 "metadata": {
  "kernelspec": {
   "display_name": "Python 3",
   "language": "python",
   "name": "python3"
  },
  "language_info": {
   "codemirror_mode": {
    "name": "ipython",
    "version": 3
   },
   "file_extension": ".py",
   "mimetype": "text/x-python",
   "name": "python",
   "nbconvert_exporter": "python",
   "pygments_lexer": "ipython3",
   "version": "3.8.5"
  }
 },
 "nbformat": 4,
 "nbformat_minor": 2
}
